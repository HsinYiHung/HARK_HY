{
 "cells": [
  {
   "cell_type": "code",
   "execution_count": 6,
   "metadata": {},
   "outputs": [
    {
     "ename": "SyntaxError",
     "evalue": "invalid syntax (<ipython-input-6-7ade7b987df9>, line 4)",
     "output_type": "error",
     "traceback": [
      "\u001b[0;36m  File \u001b[0;32m\"<ipython-input-6-7ade7b987df9>\"\u001b[0;36m, line \u001b[0;32m4\u001b[0m\n\u001b[0;31m    ipython do_ALL.py\u001b[0m\n\u001b[0m                 ^\u001b[0m\n\u001b[0;31mSyntaxError\u001b[0m\u001b[0;31m:\u001b[0m invalid syntax\n"
     ]
    }
   ],
   "source": [
    "## Run do_ALL.py \n",
    "# Since there's an error in the section 7. I first comment out the 7th section and run the do_ALL.py\n",
    "%run -i 'do_ALL.py'"
   ]
  },
  {
   "cell_type": "code",
   "execution_count": null,
   "metadata": {},
   "outputs": [],
   "source": [
    "# Run the 7th section and print out the error. \n",
    "# This error might be due to the parameters.\n",
    "\n",
    "print('7. Turn off all shocks and check if consumption converges to its analytical perfect foresight solution')\n",
    "import Appendix.PF_analytical_sol"
   ]
  }
 ],
 "metadata": {
  "docker_image": "econark/econ-ark-notebook",
  "kernelspec": {
   "display_name": "Python 3",
   "language": "python",
   "name": "python3"
  },
  "language_info": {
   "codemirror_mode": {
    "name": "ipython",
    "version": 3
   },
   "file_extension": ".py",
   "mimetype": "text/x-python",
   "name": "python",
   "nbconvert_exporter": "python",
   "pygments_lexer": "ipython3",
   "version": "3.7.6"
  }
 },
 "nbformat": 4,
 "nbformat_minor": 4
}
